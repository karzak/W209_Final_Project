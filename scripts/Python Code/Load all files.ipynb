{
 "cells": [
  {
   "cell_type": "code",
   "execution_count": 6,
   "metadata": {
    "collapsed": false
   },
   "outputs": [],
   "source": [
    "import os\n",
    "import pandas as pd"
   ]
  },
  {
   "cell_type": "code",
   "execution_count": 13,
   "metadata": {
    "collapsed": false
   },
   "outputs": [],
   "source": [
    "##Set root directory\n",
    "root = \"C:\\\\Users\\\\jlandesman\\\\Documents\\\\MIDS\\\\209 - Data Visualization\\\\Final Project\\\\zika\"\n",
    "\n",
    "##There's gotta be a way to do this in list comprehensions, no? \n",
    "file_list = []\n",
    "\n",
    "for path, subdirs, files in os.walk(root):\n",
    "    for name in files:\n",
    "        if \".csv\" in name and 'Data_Guide' not in name and '_Places' not in name:\n",
    "            file_list.append(os.path.join(path, name))\n",
    "\n",
    "## Parse dates for each file individually!\n",
    "results = [pd.read_csv(f, parse_dates = ['report_date']) for f in file_list]\n",
    "\n",
    "##Join into a single DF\n",
    "zika = pd.concat(results)\n"
   ]
  },
  {
   "cell_type": "code",
   "execution_count": 8,
   "metadata": {
    "collapsed": false
   },
   "outputs": [],
   "source": [
    "##Use the 'location' line to split \n",
    "zika['country'] = zika['location'].str.split('-').str.get(0)\n",
    "zika['sub_division'] = zika['location'].str.split('-').str.get(1)\n"
   ]
  },
  {
   "cell_type": "code",
   "execution_count": 9,
   "metadata": {
    "collapsed": false
   },
   "outputs": [],
   "source": [
    "#Save to CSV\n",
    "zika.to_csv(\"zika.csv\")"
   ]
  },
  {
   "cell_type": "code",
   "execution_count": null,
   "metadata": {
    "collapsed": true
   },
   "outputs": [],
   "source": []
  }
 ],
 "metadata": {
  "kernelspec": {
   "display_name": "Python 2",
   "language": "python",
   "name": "python2"
  },
  "language_info": {
   "codemirror_mode": {
    "name": "ipython",
    "version": 2
   },
   "file_extension": ".py",
   "mimetype": "text/x-python",
   "name": "python",
   "nbconvert_exporter": "python",
   "pygments_lexer": "ipython2",
   "version": "2.7.11"
  }
 },
 "nbformat": 4,
 "nbformat_minor": 0
}
