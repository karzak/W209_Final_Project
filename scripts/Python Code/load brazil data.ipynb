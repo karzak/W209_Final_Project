{
 "cells": [
  {
   "cell_type": "code",
   "execution_count": 4,
   "metadata": {
    "collapsed": true
   },
   "outputs": [],
   "source": [
    "import pandas as pd"
   ]
  },
  {
   "cell_type": "code",
   "execution_count": 5,
   "metadata": {
    "collapsed": false
   },
   "outputs": [
    {
     "name": "stdout",
     "output_type": "stream",
     "text": [
      "First 5 files: \n"
     ]
    },
    {
     "data": {
      "text/plain": [
       "['C:\\\\Users\\\\jlandesman\\\\Documents\\\\MIDS\\\\209 - Data Visualization\\\\Final Project\\\\zika\\\\Brazil\\\\COES_Microcephaly\\\\data\\\\COES_Microcephaly-2016-02-13.csv',\n",
       " 'C:\\\\Users\\\\jlandesman\\\\Documents\\\\MIDS\\\\209 - Data Visualization\\\\Final Project\\\\zika\\\\Brazil\\\\COES_Microcephaly\\\\data\\\\COES_Microcephaly-2016-02-20.csv',\n",
       " 'C:\\\\Users\\\\jlandesman\\\\Documents\\\\MIDS\\\\209 - Data Visualization\\\\Final Project\\\\zika\\\\Brazil\\\\COES_Microcephaly\\\\data\\\\COES_Microcephaly-2016-02-27.csv',\n",
       " 'C:\\\\Users\\\\jlandesman\\\\Documents\\\\MIDS\\\\209 - Data Visualization\\\\Final Project\\\\zika\\\\Brazil\\\\COES_Microcephaly\\\\data\\\\COES_Microcephaly-2016-03-05.csv',\n",
       " 'C:\\\\Users\\\\jlandesman\\\\Documents\\\\MIDS\\\\209 - Data Visualization\\\\Final Project\\\\zika\\\\Brazil\\\\COES_Microcephaly\\\\data\\\\COES_Microcephaly-2016-03-12.csv']"
      ]
     },
     "execution_count": 5,
     "metadata": {},
     "output_type": "execute_result"
    }
   ],
   "source": [
    "# Get list of file names in the folder\n",
    "\n",
    "from os import listdir\n",
    "from os.path import isfile, join\n",
    "bzpath = 'C:\\\\Users\\\\jlandesman\\\\Documents\\\\MIDS\\\\209 - Data Visualization\\\\Final Project\\\\zika\\\\Brazil\\\\COES_Microcephaly\\\\data'\n",
    "file_list = [f for f in listdir(bzpath) if isfile(join(bzpath, f)) and \".csv\" in f]\n",
    "bzfiles = [join(bzpath,file_list[i]) for i in range(len(file_list))]\n",
    "\n",
    "print \"First 5 files: \"\n",
    "bzfiles[0:5]"
   ]
  },
  {
   "cell_type": "code",
   "execution_count": 6,
   "metadata": {
    "collapsed": false
   },
   "outputs": [
    {
     "data": {
      "text/html": [
       "<div>\n",
       "<table border=\"1\" class=\"dataframe\">\n",
       "  <thead>\n",
       "    <tr style=\"text-align: right;\">\n",
       "      <th></th>\n",
       "      <th>report_date</th>\n",
       "      <th>location</th>\n",
       "      <th>location_type</th>\n",
       "      <th>data_field</th>\n",
       "      <th>data_field_code</th>\n",
       "      <th>time_period</th>\n",
       "      <th>time_period_type</th>\n",
       "      <th>value</th>\n",
       "      <th>unit</th>\n",
       "    </tr>\n",
       "  </thead>\n",
       "  <tbody>\n",
       "    <tr>\n",
       "      <th>0</th>\n",
       "      <td>2016-02-13</td>\n",
       "      <td>Brazil-Acre</td>\n",
       "      <td>state</td>\n",
       "      <td>microcephaly_under_investigation</td>\n",
       "      <td>BR0001</td>\n",
       "      <td>NaN</td>\n",
       "      <td>NaN</td>\n",
       "      <td>22</td>\n",
       "      <td>cases</td>\n",
       "    </tr>\n",
       "    <tr>\n",
       "      <th>1</th>\n",
       "      <td>2016-02-13</td>\n",
       "      <td>Brazil-Alagoas</td>\n",
       "      <td>state</td>\n",
       "      <td>microcephaly_under_investigation</td>\n",
       "      <td>BR0001</td>\n",
       "      <td>NaN</td>\n",
       "      <td>NaN</td>\n",
       "      <td>90</td>\n",
       "      <td>cases</td>\n",
       "    </tr>\n",
       "    <tr>\n",
       "      <th>2</th>\n",
       "      <td>2016-02-13</td>\n",
       "      <td>Brazil-Amapa</td>\n",
       "      <td>state</td>\n",
       "      <td>microcephaly_under_investigation</td>\n",
       "      <td>BR0001</td>\n",
       "      <td>NaN</td>\n",
       "      <td>NaN</td>\n",
       "      <td>NaN</td>\n",
       "      <td>cases</td>\n",
       "    </tr>\n",
       "    <tr>\n",
       "      <th>3</th>\n",
       "      <td>2016-02-13</td>\n",
       "      <td>Brazil-Amazonas</td>\n",
       "      <td>state</td>\n",
       "      <td>microcephaly_under_investigation</td>\n",
       "      <td>BR0001</td>\n",
       "      <td>NaN</td>\n",
       "      <td>NaN</td>\n",
       "      <td>NaN</td>\n",
       "      <td>cases</td>\n",
       "    </tr>\n",
       "    <tr>\n",
       "      <th>4</th>\n",
       "      <td>2016-02-13</td>\n",
       "      <td>Brazil-Bahia</td>\n",
       "      <td>state</td>\n",
       "      <td>microcephaly_under_investigation</td>\n",
       "      <td>BR0001</td>\n",
       "      <td>NaN</td>\n",
       "      <td>NaN</td>\n",
       "      <td>583</td>\n",
       "      <td>cases</td>\n",
       "    </tr>\n",
       "  </tbody>\n",
       "</table>\n",
       "</div>"
      ],
      "text/plain": [
       "  report_date         location location_type  \\\n",
       "0  2016-02-13      Brazil-Acre         state   \n",
       "1  2016-02-13   Brazil-Alagoas         state   \n",
       "2  2016-02-13     Brazil-Amapa         state   \n",
       "3  2016-02-13  Brazil-Amazonas         state   \n",
       "4  2016-02-13     Brazil-Bahia         state   \n",
       "\n",
       "                         data_field data_field_code  time_period  \\\n",
       "0  microcephaly_under_investigation          BR0001          NaN   \n",
       "1  microcephaly_under_investigation          BR0001          NaN   \n",
       "2  microcephaly_under_investigation          BR0001          NaN   \n",
       "3  microcephaly_under_investigation          BR0001          NaN   \n",
       "4  microcephaly_under_investigation          BR0001          NaN   \n",
       "\n",
       "   time_period_type value   unit  \n",
       "0               NaN    22  cases  \n",
       "1               NaN    90  cases  \n",
       "2               NaN   NaN  cases  \n",
       "3               NaN   NaN  cases  \n",
       "4               NaN   583  cases  "
      ]
     },
     "execution_count": 6,
     "metadata": {},
     "output_type": "execute_result"
    }
   ],
   "source": [
    "#Read in the data and Concat to a Pandas Data Frame\n",
    "results = [pd.read_csv(f, parse_dates = ['report_date']) for f in bzfiles] # Parse dates for each file individually!\n",
    "bz = pd.concat(results) #Join into a single DF\n",
    "\n",
    "#usa.index = usa.report_date # Set Index\n",
    "bz.country = \"Brazil\"\n",
    "\n",
    "#Look at DF:\n",
    "bz.head()"
   ]
  },
  {
   "cell_type": "code",
   "execution_count": 7,
   "metadata": {
    "collapsed": false
   },
   "outputs": [
    {
     "data": {
      "text/html": [
       "<div>\n",
       "<table border=\"1\" class=\"dataframe\">\n",
       "  <thead>\n",
       "    <tr style=\"text-align: right;\">\n",
       "      <th></th>\n",
       "      <th>report_date</th>\n",
       "      <th>location</th>\n",
       "      <th>location_type</th>\n",
       "      <th>data_field</th>\n",
       "      <th>data_field_code</th>\n",
       "      <th>time_period</th>\n",
       "      <th>time_period_type</th>\n",
       "      <th>value</th>\n",
       "      <th>unit</th>\n",
       "      <th>State</th>\n",
       "    </tr>\n",
       "  </thead>\n",
       "  <tbody>\n",
       "    <tr>\n",
       "      <th>0</th>\n",
       "      <td>2016-02-13</td>\n",
       "      <td>Brazil-Acre</td>\n",
       "      <td>state</td>\n",
       "      <td>microcephaly_under_investigation</td>\n",
       "      <td>BR0001</td>\n",
       "      <td>NaN</td>\n",
       "      <td>NaN</td>\n",
       "      <td>22</td>\n",
       "      <td>cases</td>\n",
       "      <td>Acre</td>\n",
       "    </tr>\n",
       "    <tr>\n",
       "      <th>1</th>\n",
       "      <td>2016-02-13</td>\n",
       "      <td>Brazil-Alagoas</td>\n",
       "      <td>state</td>\n",
       "      <td>microcephaly_under_investigation</td>\n",
       "      <td>BR0001</td>\n",
       "      <td>NaN</td>\n",
       "      <td>NaN</td>\n",
       "      <td>90</td>\n",
       "      <td>cases</td>\n",
       "      <td>Alagoas</td>\n",
       "    </tr>\n",
       "    <tr>\n",
       "      <th>2</th>\n",
       "      <td>2016-02-13</td>\n",
       "      <td>Brazil-Amapa</td>\n",
       "      <td>state</td>\n",
       "      <td>microcephaly_under_investigation</td>\n",
       "      <td>BR0001</td>\n",
       "      <td>NaN</td>\n",
       "      <td>NaN</td>\n",
       "      <td>NaN</td>\n",
       "      <td>cases</td>\n",
       "      <td>Amapa</td>\n",
       "    </tr>\n",
       "    <tr>\n",
       "      <th>3</th>\n",
       "      <td>2016-02-13</td>\n",
       "      <td>Brazil-Amazonas</td>\n",
       "      <td>state</td>\n",
       "      <td>microcephaly_under_investigation</td>\n",
       "      <td>BR0001</td>\n",
       "      <td>NaN</td>\n",
       "      <td>NaN</td>\n",
       "      <td>NaN</td>\n",
       "      <td>cases</td>\n",
       "      <td>Amazonas</td>\n",
       "    </tr>\n",
       "    <tr>\n",
       "      <th>4</th>\n",
       "      <td>2016-02-13</td>\n",
       "      <td>Brazil-Bahia</td>\n",
       "      <td>state</td>\n",
       "      <td>microcephaly_under_investigation</td>\n",
       "      <td>BR0001</td>\n",
       "      <td>NaN</td>\n",
       "      <td>NaN</td>\n",
       "      <td>583</td>\n",
       "      <td>cases</td>\n",
       "      <td>Bahia</td>\n",
       "    </tr>\n",
       "  </tbody>\n",
       "</table>\n",
       "</div>"
      ],
      "text/plain": [
       "  report_date         location location_type  \\\n",
       "0  2016-02-13      Brazil-Acre         state   \n",
       "1  2016-02-13   Brazil-Alagoas         state   \n",
       "2  2016-02-13     Brazil-Amapa         state   \n",
       "3  2016-02-13  Brazil-Amazonas         state   \n",
       "4  2016-02-13     Brazil-Bahia         state   \n",
       "\n",
       "                         data_field data_field_code  time_period  \\\n",
       "0  microcephaly_under_investigation          BR0001          NaN   \n",
       "1  microcephaly_under_investigation          BR0001          NaN   \n",
       "2  microcephaly_under_investigation          BR0001          NaN   \n",
       "3  microcephaly_under_investigation          BR0001          NaN   \n",
       "4  microcephaly_under_investigation          BR0001          NaN   \n",
       "\n",
       "   time_period_type value   unit     State  \n",
       "0               NaN    22  cases      Acre  \n",
       "1               NaN    90  cases   Alagoas  \n",
       "2               NaN   NaN  cases     Amapa  \n",
       "3               NaN   NaN  cases  Amazonas  \n",
       "4               NaN   583  cases     Bahia  "
      ]
     },
     "execution_count": 7,
     "metadata": {},
     "output_type": "execute_result"
    }
   ],
   "source": [
    "#Split into states\n",
    "bz['State'] = bz.location.str.split('-').str.get(1)\n",
    "bz.head()"
   ]
  }
 ],
 "metadata": {
  "kernelspec": {
   "display_name": "Python 2",
   "language": "python",
   "name": "python2"
  },
  "language_info": {
   "codemirror_mode": {
    "name": "ipython",
    "version": 2
   },
   "file_extension": ".py",
   "mimetype": "text/x-python",
   "name": "python",
   "nbconvert_exporter": "python",
   "pygments_lexer": "ipython2",
   "version": "2.7.11"
  }
 },
 "nbformat": 4,
 "nbformat_minor": 0
}
